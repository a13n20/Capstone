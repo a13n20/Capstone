{
 "cells": [
  {
   "cell_type": "code",
   "execution_count": 4,
   "id": "29b2f627-66f4-4593-8da8-04f6106b3cf7",
   "metadata": {},
   "outputs": [],
   "source": [
    "from transformers import DataCollatorWithPadding, AutoModelForSequenceClassification, DataCollatorForLanguageModeling, AutoTokenizer, Trainer, TrainingArguments\n",
    "from datasets import load_dataset, Dataset\n",
    "import torch\n",
    "import torch.nn as nn\n",
    "from torch.utils.data import DataLoader\n",
    "from tqdm import tqdm"
   ]
  },
  {
   "cell_type": "code",
   "execution_count": 5,
   "id": "82eb8bde-4043-455d-af83-9e9e7c7014e4",
   "metadata": {},
   "outputs": [],
   "source": [
    "ds = load_dataset(\"zefang-liu/phishing-email-dataset\", split=\"train\")"
   ]
  },
  {
   "cell_type": "code",
   "execution_count": 6,
   "id": "28fc18df-23c9-4b0c-9fd7-50cb8491a6c5",
   "metadata": {},
   "outputs": [],
   "source": [
    "tokenizer = AutoTokenizer.from_pretrained(\"bert-base-uncased\")"
   ]
  },
  {
   "cell_type": "code",
   "execution_count": 7,
   "id": "9bfb0bd8-b7c8-4150-a9f4-f8ce93ae556d",
   "metadata": {},
   "outputs": [],
   "source": [
    "def tokenization(batch):\n",
    "    texts = [str(text) for text in batch[\"Email Text\"]]\n",
    "    return tokenizer(texts, padding = True, truncation = True)\n",
    "\n",
    "token_ds = ds.map(tokenization, batched = True)"
   ]
  },
  {
   "cell_type": "code",
   "execution_count": 8,
   "id": "7718e1d0-62b4-43ea-a854-438083e9be92",
   "metadata": {},
   "outputs": [],
   "source": [
    "def create_label(batch):\n",
    "    label_map = {\"Phishing Email\": 1, \"Safe Email\": 0}\n",
    "    batch[\"label\"] = label_map[batch[\"Email Type\"]]\n",
    "    return batch\n",
    "\n",
    "final_ds = token_ds.map(create_label)"
   ]
  },
  {
   "cell_type": "code",
   "execution_count": 9,
   "id": "b04f4614-ecd7-4ec1-a2d5-c8fa533e741d",
   "metadata": {},
   "outputs": [],
   "source": [
    "final_ds.set_format(type=\"torch\", columns=[\"input_ids\", \"attention_mask\", \"label\"])"
   ]
  },
  {
   "cell_type": "code",
   "execution_count": 10,
   "id": "ec901fb6-6ca2-498a-b220-4636240674fb",
   "metadata": {},
   "outputs": [],
   "source": [
    "seed = 42\n",
    "shuffled_ds = final_ds.shuffle(seed)"
   ]
  },
  {
   "cell_type": "code",
   "execution_count": 11,
   "id": "55fcb49e-e988-40e0-be11-68dd056120ac",
   "metadata": {},
   "outputs": [
    {
     "name": "stderr",
     "output_type": "stream",
     "text": [
      "Some weights of DistilBertForSequenceClassification were not initialized from the model checkpoint at distilbert-base-uncased and are newly initialized: ['classifier.bias', 'classifier.weight', 'pre_classifier.bias', 'pre_classifier.weight']\n",
      "You should probably TRAIN this model on a down-stream task to be able to use it for predictions and inference.\n"
     ]
    }
   ],
   "source": [
    "data_collator = DataCollatorWithPadding(tokenizer=tokenizer, padding=True)\n",
    "dataloader = DataLoader(shuffled_ds, batch_size=8, collate_fn=data_collator)\n",
    "device = 'cuda' if torch.cuda.is_available() else 'cpu'\n",
    "model = AutoModelForSequenceClassification.from_pretrained(\"distilbert-base-uncased\", num_labels=2)"
   ]
  },
  {
   "cell_type": "code",
   "execution_count": 12,
   "id": "06cea952-c561-4f6a-b0e2-9e81d1c754cd",
   "metadata": {},
   "outputs": [
    {
     "name": "stderr",
     "output_type": "stream",
     "text": [
      " 20%|████████████▌                                                  | 1/5 [00:17<01:10, 17.57s/it]"
     ]
    },
    {
     "name": "stdout",
     "output_type": "stream",
     "text": [
      "loss: 0.6868773102760315\n"
     ]
    },
    {
     "name": "stderr",
     "output_type": "stream",
     "text": [
      "100%|███████████████████████████████████████████████████████████████| 5/5 [01:18<00:00, 15.69s/it]\n",
      " 20%|████████████▌                                                  | 1/5 [00:13<00:55, 13.99s/it]"
     ]
    },
    {
     "name": "stdout",
     "output_type": "stream",
     "text": [
      "loss: 0.6282207369804382\n"
     ]
    },
    {
     "name": "stderr",
     "output_type": "stream",
     "text": [
      "100%|███████████████████████████████████████████████████████████████| 5/5 [01:10<00:00, 14.20s/it]\n",
      " 20%|████████████▌                                                  | 1/5 [00:14<00:56, 14.19s/it]"
     ]
    },
    {
     "name": "stdout",
     "output_type": "stream",
     "text": [
      "loss: 0.616180956363678\n"
     ]
    },
    {
     "name": "stderr",
     "output_type": "stream",
     "text": [
      "100%|███████████████████████████████████████████████████████████████| 5/5 [01:11<00:00, 14.20s/it]\n",
      " 20%|████████████▌                                                  | 1/5 [00:15<01:00, 15.11s/it]"
     ]
    },
    {
     "name": "stdout",
     "output_type": "stream",
     "text": [
      "loss: 0.5855942368507385\n"
     ]
    },
    {
     "name": "stderr",
     "output_type": "stream",
     "text": [
      "100%|███████████████████████████████████████████████████████████████| 5/5 [01:15<00:00, 15.17s/it]\n",
      " 20%|████████████▌                                                  | 1/5 [00:14<00:57, 14.25s/it]"
     ]
    },
    {
     "name": "stdout",
     "output_type": "stream",
     "text": [
      "loss: 0.5426371097564697\n"
     ]
    },
    {
     "name": "stderr",
     "output_type": "stream",
     "text": [
      "100%|███████████████████████████████████████████████████████████████| 5/5 [01:14<00:00, 14.90s/it]\n"
     ]
    }
   ],
   "source": [
    "model.to(device)\n",
    "model.train()\n",
    "optimizer = torch.optim.AdamW(params=model.parameters(), lr=1e-5)\n",
    "epochs = 5\n",
    "for epoch in range(epochs):\n",
    "    for i, batch in enumerate(tqdm(dataloader, total=5)):\n",
    "        if i == 5:\n",
    "            break\n",
    "        batch = {k: v.to(device) for k, v in batch.items()}\n",
    "        outputs = model(**batch)\n",
    "        loss = outputs.loss\n",
    "        loss.backward()\n",
    "        optimizer.step()\n",
    "        optimizer.zero_grad()\n",
    "        if i % 10 == 0:\n",
    "            print(f\"loss: {loss}\")"
   ]
  },
  {
   "cell_type": "code",
   "execution_count": 13,
   "id": "e9d0983f-9891-4b1d-999a-fc05dbf9ce77",
   "metadata": {},
   "outputs": [
    {
     "data": {
      "text/plain": [
       "('phish_detect_V1/tokenizer_config.json',\n",
       " 'phish_detect_V1/special_tokens_map.json',\n",
       " 'phish_detect_V1/vocab.txt',\n",
       " 'phish_detect_V1/added_tokens.json',\n",
       " 'phish_detect_V1/tokenizer.json')"
      ]
     },
     "execution_count": 13,
     "metadata": {},
     "output_type": "execute_result"
    }
   ],
   "source": [
    "model.save_pretrained(\"phish_detect_V1\")\n",
    "tokenizer.save_pretrained(\"phish_detect_V1\")"
   ]
  },
  {
   "cell_type": "code",
   "execution_count": 14,
   "id": "61c5c99d-3e17-4975-960d-55a129f89b31",
   "metadata": {},
   "outputs": [
    {
     "data": {
      "text/plain": [
       "DistilBertForSequenceClassification(\n",
       "  (distilbert): DistilBertModel(\n",
       "    (embeddings): Embeddings(\n",
       "      (word_embeddings): Embedding(30522, 768, padding_idx=0)\n",
       "      (position_embeddings): Embedding(512, 768)\n",
       "      (LayerNorm): LayerNorm((768,), eps=1e-12, elementwise_affine=True)\n",
       "      (dropout): Dropout(p=0.1, inplace=False)\n",
       "    )\n",
       "    (transformer): Transformer(\n",
       "      (layer): ModuleList(\n",
       "        (0-5): 6 x TransformerBlock(\n",
       "          (attention): DistilBertSdpaAttention(\n",
       "            (dropout): Dropout(p=0.1, inplace=False)\n",
       "            (q_lin): Linear(in_features=768, out_features=768, bias=True)\n",
       "            (k_lin): Linear(in_features=768, out_features=768, bias=True)\n",
       "            (v_lin): Linear(in_features=768, out_features=768, bias=True)\n",
       "            (out_lin): Linear(in_features=768, out_features=768, bias=True)\n",
       "          )\n",
       "          (sa_layer_norm): LayerNorm((768,), eps=1e-12, elementwise_affine=True)\n",
       "          (ffn): FFN(\n",
       "            (dropout): Dropout(p=0.1, inplace=False)\n",
       "            (lin1): Linear(in_features=768, out_features=3072, bias=True)\n",
       "            (lin2): Linear(in_features=3072, out_features=768, bias=True)\n",
       "            (activation): GELUActivation()\n",
       "          )\n",
       "          (output_layer_norm): LayerNorm((768,), eps=1e-12, elementwise_affine=True)\n",
       "        )\n",
       "      )\n",
       "    )\n",
       "  )\n",
       "  (pre_classifier): Linear(in_features=768, out_features=768, bias=True)\n",
       "  (classifier): Linear(in_features=768, out_features=2, bias=True)\n",
       "  (dropout): Dropout(p=0.2, inplace=False)\n",
       ")"
      ]
     },
     "execution_count": 14,
     "metadata": {},
     "output_type": "execute_result"
    }
   ],
   "source": [
    "# Load model and tokenizer\n",
    "model = AutoModelForSequenceClassification.from_pretrained(\"phish_detect_V1\").to(device)\n",
    "tokenizer = AutoTokenizer.from_pretrained(\"phish_detect_V1\")\n",
    "\n",
    "model.eval()  # Set model to evaluation mode\n"
   ]
  },
  {
   "cell_type": "code",
   "execution_count": 67,
   "id": "ef5ce206-87d6-4a99-b846-d6a2a1300e86",
   "metadata": {},
   "outputs": [
    {
     "name": "stdout",
     "output_type": "stream",
     "text": [
      "Phishing Email\n"
     ]
    }
   ],
   "source": [
    "def predict_email(text):\n",
    "    inputs = tokenizer(text, padding=True, truncation=True, return_tensors=\"pt\").to(device)\n",
    "    \n",
    "    if \"token_type_ids\" in inputs:\n",
    "        del inputs[\"token_type_ids\"]\n",
    "        \n",
    "    with torch.no_grad():\n",
    "        outputs = model(**inputs)\n",
    "    logits = outputs.logits\n",
    "    prediction = torch.argmax(logits, dim=1).item()\n",
    "    return \"Phishing Email\" if prediction == 1 else \"Safe Email\"\n",
    "\n",
    "email_text = \"Congratulations! You've won a free iPhone. Click the link to claim your prize.\"\n",
    "print(predict_email(email_text))  # Should return \"Phishing Email\" if trained well\n"
   ]
  },
  {
   "cell_type": "code",
   "execution_count": 68,
   "id": "9bc53d7c-1653-4178-a075-868fd6d71b0f",
   "metadata": {},
   "outputs": [],
   "source": [
    "import pandas as pd"
   ]
  },
  {
   "cell_type": "code",
   "execution_count": 69,
   "id": "b2be76e3-d7bb-497a-b53c-367828221b74",
   "metadata": {},
   "outputs": [],
   "source": [
    "test_ds = pd.read_csv(\"test_dataset.csv\")"
   ]
  },
  {
   "cell_type": "code",
   "execution_count": 70,
   "id": "3bf31cbc-dcce-4a0b-849f-eb6f058824c3",
   "metadata": {},
   "outputs": [
    {
     "data": {
      "text/html": [
       "<div>\n",
       "<style scoped>\n",
       "    .dataframe tbody tr th:only-of-type {\n",
       "        vertical-align: middle;\n",
       "    }\n",
       "\n",
       "    .dataframe tbody tr th {\n",
       "        vertical-align: top;\n",
       "    }\n",
       "\n",
       "    .dataframe thead th {\n",
       "        text-align: right;\n",
       "    }\n",
       "</style>\n",
       "<table border=\"1\" class=\"dataframe\">\n",
       "  <thead>\n",
       "    <tr style=\"text-align: right;\">\n",
       "      <th></th>\n",
       "      <th>sender</th>\n",
       "      <th>receiver</th>\n",
       "      <th>date</th>\n",
       "      <th>subject</th>\n",
       "      <th>body</th>\n",
       "      <th>label</th>\n",
       "      <th>urls</th>\n",
       "    </tr>\n",
       "  </thead>\n",
       "  <tbody>\n",
       "    <tr>\n",
       "      <th>0</th>\n",
       "      <td>Young Esposito &lt;Young@iworld.de&gt;</td>\n",
       "      <td>user4@gvc.ceas-challenge.cc</td>\n",
       "      <td>Tue, 05 Aug 2008 16:31:02 -0700</td>\n",
       "      <td>Never agree to be a loser</td>\n",
       "      <td>Buck up, your troubles caused by small dimensi...</td>\n",
       "      <td>1</td>\n",
       "      <td>1</td>\n",
       "    </tr>\n",
       "    <tr>\n",
       "      <th>1</th>\n",
       "      <td>Mok &lt;ipline's1983@icable.ph&gt;</td>\n",
       "      <td>user2.2@gvc.ceas-challenge.cc</td>\n",
       "      <td>Tue, 05 Aug 2008 18:31:03 -0500</td>\n",
       "      <td>Befriend Jenna Jameson</td>\n",
       "      <td>\\nUpgrade your sex and pleasures with these te...</td>\n",
       "      <td>1</td>\n",
       "      <td>1</td>\n",
       "    </tr>\n",
       "    <tr>\n",
       "      <th>2</th>\n",
       "      <td>Daily Top 10 &lt;Karmandeep-opengevl@universalnet...</td>\n",
       "      <td>user2.9@gvc.ceas-challenge.cc</td>\n",
       "      <td>Tue, 05 Aug 2008 20:28:00 -1200</td>\n",
       "      <td>CNN.com Daily Top 10</td>\n",
       "      <td>&gt;+=+=+=+=+=+=+=+=+=+=+=+=+=+=+=+=+=+=+=+=+=+=+...</td>\n",
       "      <td>1</td>\n",
       "      <td>1</td>\n",
       "    </tr>\n",
       "    <tr>\n",
       "      <th>3</th>\n",
       "      <td>Michael Parker &lt;ivqrnai@pobox.com&gt;</td>\n",
       "      <td>SpamAssassin Dev &lt;xrh@spamassassin.apache.org&gt;</td>\n",
       "      <td>Tue, 05 Aug 2008 17:31:20 -0600</td>\n",
       "      <td>Re: svn commit: r619753 - in /spamassassin/tru...</td>\n",
       "      <td>Would anyone object to removing .so from this ...</td>\n",
       "      <td>0</td>\n",
       "      <td>1</td>\n",
       "    </tr>\n",
       "    <tr>\n",
       "      <th>4</th>\n",
       "      <td>Gretchen Suggs &lt;externalsep1@loanofficertool.com&gt;</td>\n",
       "      <td>user2.2@gvc.ceas-challenge.cc</td>\n",
       "      <td>Tue, 05 Aug 2008 19:31:21 -0400</td>\n",
       "      <td>SpecialPricesPharmMoreinfo</td>\n",
       "      <td>\\nWelcomeFastShippingCustomerSupport\\nhttp://7...</td>\n",
       "      <td>1</td>\n",
       "      <td>1</td>\n",
       "    </tr>\n",
       "  </tbody>\n",
       "</table>\n",
       "</div>"
      ],
      "text/plain": [
       "                                              sender  \\\n",
       "0                   Young Esposito <Young@iworld.de>   \n",
       "1                       Mok <ipline's1983@icable.ph>   \n",
       "2  Daily Top 10 <Karmandeep-opengevl@universalnet...   \n",
       "3                 Michael Parker <ivqrnai@pobox.com>   \n",
       "4  Gretchen Suggs <externalsep1@loanofficertool.com>   \n",
       "\n",
       "                                         receiver  \\\n",
       "0                     user4@gvc.ceas-challenge.cc   \n",
       "1                   user2.2@gvc.ceas-challenge.cc   \n",
       "2                   user2.9@gvc.ceas-challenge.cc   \n",
       "3  SpamAssassin Dev <xrh@spamassassin.apache.org>   \n",
       "4                   user2.2@gvc.ceas-challenge.cc   \n",
       "\n",
       "                              date  \\\n",
       "0  Tue, 05 Aug 2008 16:31:02 -0700   \n",
       "1  Tue, 05 Aug 2008 18:31:03 -0500   \n",
       "2  Tue, 05 Aug 2008 20:28:00 -1200   \n",
       "3  Tue, 05 Aug 2008 17:31:20 -0600   \n",
       "4  Tue, 05 Aug 2008 19:31:21 -0400   \n",
       "\n",
       "                                             subject  \\\n",
       "0                          Never agree to be a loser   \n",
       "1                             Befriend Jenna Jameson   \n",
       "2                               CNN.com Daily Top 10   \n",
       "3  Re: svn commit: r619753 - in /spamassassin/tru...   \n",
       "4                         SpecialPricesPharmMoreinfo   \n",
       "\n",
       "                                                body  label  urls  \n",
       "0  Buck up, your troubles caused by small dimensi...      1     1  \n",
       "1  \\nUpgrade your sex and pleasures with these te...      1     1  \n",
       "2  >+=+=+=+=+=+=+=+=+=+=+=+=+=+=+=+=+=+=+=+=+=+=+...      1     1  \n",
       "3  Would anyone object to removing .so from this ...      0     1  \n",
       "4  \\nWelcomeFastShippingCustomerSupport\\nhttp://7...      1     1  "
      ]
     },
     "execution_count": 70,
     "metadata": {},
     "output_type": "execute_result"
    }
   ],
   "source": [
    "test_ds.head()"
   ]
  },
  {
   "cell_type": "code",
   "execution_count": 72,
   "id": "38572d5d-7d08-43c5-b1a1-83e3a3a3edf6",
   "metadata": {},
   "outputs": [],
   "source": [
    "test = Dataset.from_pandas(test_ds)"
   ]
  },
  {
   "cell_type": "code",
   "execution_count": 74,
   "id": "f4c98004-86a7-497a-943a-febf13ad51a0",
   "metadata": {},
   "outputs": [
    {
     "data": {
      "application/vnd.jupyter.widget-view+json": {
       "model_id": "9a626af2798a4174b181bda7bf34a025",
       "version_major": 2,
       "version_minor": 0
      },
      "text/plain": [
       "Map:   0%|          | 0/39154 [00:00<?, ? examples/s]"
      ]
     },
     "metadata": {},
     "output_type": "display_data"
    }
   ],
   "source": [
    "def tokenize_test_data(batch):\n",
    "    texts = [str(text) for text in batch[\"body\"]]\n",
    "    return tokenizer(texts, padding = True, truncation = True)\n",
    "\n",
    "token_test = test.map(tokenize_test_data, batched = True)"
   ]
  },
  {
   "cell_type": "code",
   "execution_count": 75,
   "id": "127d3332-c730-4f96-b20b-65b5df0aa4c5",
   "metadata": {},
   "outputs": [],
   "source": [
    "token_test.set_format(type=\"torch\", columns=[\"input_ids\", \"attention_mask\", \"label\"])"
   ]
  },
  {
   "cell_type": "code",
   "execution_count": 78,
   "id": "8bf37432-5b7d-43a4-9c45-c5bb308b17bc",
   "metadata": {},
   "outputs": [],
   "source": [
    "test_dataloader = DataLoader(token_test, batch_size=8, collate_fn=data_collator)"
   ]
  },
  {
   "cell_type": "code",
   "execution_count": 82,
   "id": "7b7619aa-8815-416c-8923-0b044c4dc6a8",
   "metadata": {},
   "outputs": [
    {
     "name": "stderr",
     "output_type": "stream",
     "text": [
      "Predicting: 100%|█████████████████████████| 4895/4895 [2:53:50<00:00,  2.13s/it]\n"
     ]
    },
    {
     "name": "stdout",
     "output_type": "stream",
     "text": [
      "                                                body  label Predicted Label\n",
      "0  Buck up, your troubles caused by small dimensi...      1  Phishing Email\n",
      "1  \\nUpgrade your sex and pleasures with these te...      1  Phishing Email\n",
      "2  >+=+=+=+=+=+=+=+=+=+=+=+=+=+=+=+=+=+=+=+=+=+=+...      1      Safe Email\n",
      "3  Would anyone object to removing .so from this ...      0      Safe Email\n",
      "4  \\nWelcomeFastShippingCustomerSupport\\nhttp://7...      1  Phishing Email\n"
     ]
    }
   ],
   "source": [
    "model.eval()\n",
    "predictions = []\n",
    "\n",
    "with torch.no_grad():\n",
    "    for batch in tqdm(test_dataloader, desc=\"Predicting\", total=len(test_dataloader)):\n",
    "        batch = {k: v.to(device) for k, v in batch.items() if k in [\"input_ids\", \"attention_mask\"]}\n",
    "        outputs = model(**batch)\n",
    "        logits = outputs.logits\n",
    "        preds = torch.argmax(logits, dim=1).cpu().numpy()\n",
    "        predictions.extend(preds)\n",
    "\n",
    "label_map = {1: \"Phishing Email\", 0: \"Safe Email\"}\n",
    "predicted_labels = [label_map[pred] for pred in predictions]\n",
    "\n",
    "test_df = token_test.to_pandas()\n",
    "test_df[\"Predicted Label\"] = predicted_labels\n",
    "\n",
    "print(test_df[[\"body\", \"label\", \"Predicted Label\"]].head())"
   ]
  },
  {
   "cell_type": "code",
   "execution_count": 83,
   "id": "12b896f1-5e1c-4b34-a515-def9cd13ba28",
   "metadata": {},
   "outputs": [],
   "source": [
    "from sklearn.metrics import accuracy_score, classification_report"
   ]
  },
  {
   "cell_type": "code",
   "execution_count": 91,
   "id": "77c81616-692a-4a79-acec-8f1f4d7d4f45",
   "metadata": {},
   "outputs": [
    {
     "name": "stdout",
     "output_type": "stream",
     "text": [
      "Accuracy: 0.8684\n",
      "                precision    recall  f1-score   support\n",
      "\n",
      "    Safe Email       0.79      0.95      0.87     17312\n",
      "Phishing Email       0.96      0.80      0.87     21842\n",
      "\n",
      "      accuracy                           0.87     39154\n",
      "     macro avg       0.87      0.88      0.87     39154\n",
      "  weighted avg       0.88      0.87      0.87     39154\n",
      "\n"
     ]
    }
   ],
   "source": [
    "true_labels = test_df[\"label\"].tolist()\n",
    "label_map_r = {\"Phishing Email\": 1, \"Safe Email\": 0}\n",
    "pred_labels_num = [label_map_r[label] for label in predicted_labels]\n",
    "accuracy = accuracy_score(true_labels, pred_labels_num)\n",
    "print(f\"Accuracy: {accuracy:.4f}\")\n",
    "print(classification_report(true_labels, pred_labels_num, target_names=[\"Safe Email\", \"Phishing Email\"]))"
   ]
  },
  {
   "cell_type": "code",
   "execution_count": null,
   "id": "a473fe09-3679-4f9a-8435-edde8e86e327",
   "metadata": {},
   "outputs": [],
   "source": []
  }
 ],
 "metadata": {
  "kernelspec": {
   "display_name": "Python 3 (ipykernel)",
   "language": "python",
   "name": "python3"
  },
  "language_info": {
   "codemirror_mode": {
    "name": "ipython",
    "version": 3
   },
   "file_extension": ".py",
   "mimetype": "text/x-python",
   "name": "python",
   "nbconvert_exporter": "python",
   "pygments_lexer": "ipython3",
   "version": "3.11.8"
  }
 },
 "nbformat": 4,
 "nbformat_minor": 5
}
